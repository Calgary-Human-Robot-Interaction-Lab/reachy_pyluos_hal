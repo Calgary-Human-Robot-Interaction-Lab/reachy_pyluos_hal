{
 "cells": [
  {
   "cell_type": "code",
   "execution_count": 1,
   "metadata": {},
   "outputs": [
    {
     "data": {
      "text/plain": [
       "{0: [LuosContainer(id=1, alias='gate', type='Gate')],\n",
       " 2: [LuosContainer(id=2, alias='dxl_14', type='DynamixelMotor'),\n",
       "  LuosContainer(id=3, alias='dxl_15', type='DynamixelMotor'),\n",
       "  LuosContainer(id=4, alias='dxl_16', type='DynamixelMotor')],\n",
       " 6: [LuosContainer(id=5, alias='dxl_10', type='DynamixelMotor'),\n",
       "  LuosContainer(id=6, alias='dxl_11', type='DynamixelMotor'),\n",
       "  LuosContainer(id=7, alias='dxl_12', type='DynamixelMotor'),\n",
       "  LuosContainer(id=8, alias='dxl_13', type='DynamixelMotor')]}"
      ]
     },
     "execution_count": 1,
     "metadata": {},
     "output_type": "execute_result"
    }
   ],
   "source": [
    "from reachy_pyluos_hal.discovery import identify_luos_containers\n",
    "\n",
    "identify_luos_containers('/dev/cu.usbserial-DN05NM0W')"
   ]
  },
  {
   "cell_type": "code",
   "execution_count": null,
   "metadata": {},
   "outputs": [],
   "source": []
  }
 ],
 "metadata": {
  "kernelspec": {
   "display_name": "Python 3",
   "language": "python",
   "name": "python3"
  },
  "language_info": {
   "codemirror_mode": {
    "name": "ipython",
    "version": 3
   },
   "file_extension": ".py",
   "mimetype": "text/x-python",
   "name": "python",
   "nbconvert_exporter": "python",
   "pygments_lexer": "ipython3",
   "version": "3.9.1"
  }
 },
 "nbformat": 4,
 "nbformat_minor": 4
}
