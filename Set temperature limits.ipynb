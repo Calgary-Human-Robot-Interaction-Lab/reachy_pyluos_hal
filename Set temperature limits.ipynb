{
 "cells": [
  {
   "cell_type": "markdown",
   "id": "58406a42",
   "metadata": {},
   "source": [
    "# Check and set new limits"
   ]
  },
  {
   "cell_type": "markdown",
   "id": "d7a59726",
   "metadata": {},
   "source": [
    "## Make sure the reachy_sdk_server.service is stopped"
   ]
  },
  {
   "cell_type": "code",
   "execution_count": 1,
   "id": "f7b65888",
   "metadata": {},
   "outputs": [],
   "source": [
    "!sudo systemctl stop reachy_sdk_server.service"
   ]
  },
  {
   "cell_type": "code",
   "execution_count": 2,
   "id": "3946a3a0",
   "metadata": {},
   "outputs": [
    {
     "name": "stdout",
     "output_type": "stream",
     "text": [
      "● reachy_sdk_server.service - Reachy SDK server service\r\n",
      "     Loaded: loaded (\u001b]8;;file://reachy-xprize/etc/systemd/system/reachy_sdk_server.service\u0007/etc/systemd/system/reachy_sdk_server.service\u001b]8;;\u0007; enabled; vendor preset: enabled)\r\n",
      "     Active: inactive (dead) since Tue 2021-08-17 15:06:36 CEST; 801ms ago\r\n",
      "    Process: 11597 ExecStart=/usr/bin/bash /home/pierre/reachy_ws/src/reachy_sdk_server/launch_all.bash (code=killed, signal=TERM)\r\n",
      "   Main PID: 11597 (code=killed, signal=TERM)\r\n",
      "\r\n",
      "août 17 15:06:17 reachy-xprize bash[11634]: [reachy_sdk_server-8] [INFO] [1…...\r\n",
      "août 17 15:06:17 reachy-xprize bash[11634]: [reachy_sdk_server-8] [INFO] [1…ed!\r\n",
      "août 17 15:06:36 reachy-xprize bash[11634]: [ERROR] [launch]: using SIGTERM…ses\r\n",
      "août 17 15:06:36 reachy-xprize systemd[1]: Stopping Reachy SDK server servi…...\r\n",
      "août 17 15:06:36 reachy-xprize bash[11634]: [ERROR] [launch]: make sure no …ing\r\n",
      "août 17 15:06:36 reachy-xprize bash[11634]: [ERROR] [launch]: using SIGTERM…ses\r\n",
      "août 17 15:06:36 reachy-xprize bash[11634]: [ERROR] [launch]: make sure no …ing\r\n",
      "août 17 15:06:36 reachy-xprize bash[11634]: [ERROR] [launch]: run task was …led\r\n",
      "août 17 15:06:36 reachy-xprize systemd[1]: reachy_sdk_server.service: Succe…ed.\r\n",
      "août 17 15:06:36 reachy-xprize systemd[1]: Stopped Reachy SDK server service.\r\n",
      "Hint: Some lines were ellipsized, use -l to show in full.\r\n"
     ]
    }
   ],
   "source": [
    "!systemctl status reachy_sdk_server.service"
   ]
  },
  {
   "cell_type": "markdown",
   "id": "4a319738",
   "metadata": {},
   "source": [
    "## Now you can connect"
   ]
  },
  {
   "cell_type": "code",
   "execution_count": 4,
   "id": "db197624",
   "metadata": {},
   "outputs": [
    {
     "data": {
      "text/plain": [
       "<reachy_pyluos_hal.joint_hal.JointLuos at 0x7f38bd924b50>"
      ]
     },
     "execution_count": 4,
     "metadata": {},
     "output_type": "execute_result"
    }
   ],
   "source": [
    "import logging\n",
    "\n",
    "from reachy_pyluos_hal.joint_hal import JointLuos\n",
    "from reachy_controllers.joint_state_controller import get_reachy_model\n",
    "\n",
    "logger = logging.getLogger()\n",
    "\n",
    "hal = JointLuos(config_name=get_reachy_model(), logger=logger)\n",
    "hal.__enter__()"
   ]
  },
  {
   "cell_type": "code",
   "execution_count": 5,
   "id": "251de6c5",
   "metadata": {},
   "outputs": [
    {
     "data": {
      "text/plain": [
       "['l_shoulder_pitch',\n",
       " 'l_shoulder_roll',\n",
       " 'l_arm_yaw',\n",
       " 'l_elbow_pitch',\n",
       " 'l_forearm_yaw',\n",
       " 'l_wrist_pitch',\n",
       " 'l_wrist_roll',\n",
       " 'l_gripper',\n",
       " 'r_shoulder_pitch',\n",
       " 'r_shoulder_roll',\n",
       " 'r_arm_yaw',\n",
       " 'r_elbow_pitch',\n",
       " 'r_forearm_yaw',\n",
       " 'r_wrist_pitch',\n",
       " 'r_wrist_roll',\n",
       " 'r_gripper',\n",
       " 'l_antenna',\n",
       " 'r_antenna']"
      ]
     },
     "execution_count": 5,
     "metadata": {},
     "output_type": "execute_result"
    }
   ],
   "source": [
    "dxls = list(hal.reachy.dxls.keys())\n",
    "dxls"
   ]
  },
  {
   "cell_type": "code",
   "execution_count": 6,
   "id": "96751bdc",
   "metadata": {},
   "outputs": [
    {
     "name": "stdout",
     "output_type": "stream",
     "text": [
      "{'l_shoulder_pitch': 55, 'l_shoulder_roll': 55, 'l_arm_yaw': 55, 'l_elbow_pitch': 55, 'l_forearm_yaw': 55, 'l_wrist_pitch': 55, 'l_wrist_roll': 55, 'l_gripper': 55, 'r_shoulder_pitch': 55, 'r_shoulder_roll': 55, 'r_arm_yaw': 55, 'r_elbow_pitch': 55, 'r_forearm_yaw': 55, 'r_wrist_pitch': 55, 'r_wrist_roll': 55, 'r_gripper': 55, 'l_antenna': 55, 'r_antenna': 55}\n"
     ]
    }
   ],
   "source": [
    "temperature_limit = hal.reachy.get_joints_value(register='temperature_limit', joint_names=dxls)\n",
    "\n",
    "print(dict(zip(dxls, temperature_limit)))"
   ]
  },
  {
   "cell_type": "markdown",
   "id": "be030ee2",
   "metadata": {},
   "source": [
    "## Set new limits if needed"
   ]
  },
  {
   "cell_type": "code",
   "execution_count": 11,
   "id": "92486d19",
   "metadata": {},
   "outputs": [
    {
     "name": "stderr",
     "output_type": "stream",
     "text": [
      "Dynamixel error 256 on motor id=14!\n",
      "Dynamixel error 256 on motor id=25!\n"
     ]
    }
   ],
   "source": [
    "new_limit = 55\n",
    "\n",
    "values = {\n",
    "    dxl: new_limit\n",
    "    for dxl in dxls\n",
    "}\n",
    "hal.reachy.set_joints_value(register='temperature_limit', value_for_joint=values)"
   ]
  },
  {
   "cell_type": "markdown",
   "id": "3a1b5ec1",
   "metadata": {},
   "source": [
    "## Check again..."
   ]
  },
  {
   "cell_type": "code",
   "execution_count": 7,
   "id": "d2f93ce9",
   "metadata": {},
   "outputs": [
    {
     "name": "stdout",
     "output_type": "stream",
     "text": [
      "{'l_shoulder_pitch': 55, 'l_shoulder_roll': 55, 'l_arm_yaw': 55, 'l_elbow_pitch': 55, 'l_forearm_yaw': 55, 'l_wrist_pitch': 55, 'l_wrist_roll': 55, 'l_gripper': 55, 'r_shoulder_pitch': 55, 'r_shoulder_roll': 55, 'r_arm_yaw': 55, 'r_elbow_pitch': 55, 'r_forearm_yaw': 55, 'r_wrist_pitch': 55, 'r_wrist_roll': 55, 'r_gripper': 55, 'l_antenna': 55, 'r_antenna': 55}\n"
     ]
    }
   ],
   "source": [
    "temperature_limit = hal.reachy.get_joints_value(register='temperature_limit', joint_names=dxls)\n",
    "\n",
    "print(dict(zip(dxls, temperature_limit)))"
   ]
  },
  {
   "cell_type": "markdown",
   "id": "02019342",
   "metadata": {},
   "source": [
    "## Relaunch everything "
   ]
  },
  {
   "cell_type": "code",
   "execution_count": 8,
   "id": "ef10b457",
   "metadata": {},
   "outputs": [],
   "source": [
    "hal.stop()"
   ]
  },
  {
   "cell_type": "code",
   "execution_count": 9,
   "id": "202da379",
   "metadata": {},
   "outputs": [],
   "source": [
    "!sudo systemctl start reachy_sdk_server.service"
   ]
  },
  {
   "cell_type": "code",
   "execution_count": 10,
   "id": "b7505f80",
   "metadata": {},
   "outputs": [
    {
     "name": "stdout",
     "output_type": "stream",
     "text": [
      "\u001b[0;1;32m●\u001b[0m reachy_sdk_server.service - Reachy SDK server service\r\n",
      "     Loaded: loaded (\u001b]8;;file://reachy-xprize/etc/systemd/system/reachy_sdk_server.service\u0007/etc/systemd/system/reachy_sdk_server.service\u001b]8;;\u0007; enabled; vendor preset: enabled)\r\n",
      "     Active: \u001b[0;1;32mactive (running)\u001b[0m since Tue 2021-08-17 15:07:26 CEST; 5s ago\r\n",
      "   Main PID: 11825 (bash)\r\n",
      "      Tasks: 141 (limit: 9102)\r\n",
      "     Memory: 340.7M\r\n",
      "     CGroup: /system.slice/reachy_sdk_server.service\r\n",
      "             ├─11825 /usr/bin/bash /home/pierre/reachy_ws/src/reachy_sdk_server…\r\n",
      "             ├─11862 /usr/bin/python3 /opt/ros/foxy/bin/ros2 launch reachy_sdk_…\r\n",
      "             ├─11864 /opt/ros/foxy/lib/robot_state_publisher/robot_state_publis…\r\n",
      "             ├─11866 /usr/bin/python3 /home/pierre/reachy_ws/install/reachy_kin…\r\n",
      "             ├─11868 /usr/bin/python3 /home/pierre/reachy_ws/install/reachy_kin…\r\n",
      "             ├─11870 /usr/bin/python3 /home/pierre/reachy_ws/install/reachy_con…\r\n",
      "             ├─11872 /usr/bin/python3 /home/pierre/reachy_ws/install/reachy_con…\r\n",
      "             ├─11874 /usr/bin/python3 /home/pierre/reachy_ws/install/mobile_bas…\r\n",
      "             ├─11876 /usr/bin/python3 /home/pierre/reachy_ws/install/reachy_con…\r\n",
      "             ├─11878 /usr/bin/python3 /home/pierre/reachy_ws/install/reachy_sdk…\r\n",
      "             └─11890 /usr/bin/python3 /home/pierre/reachy_ws/install/reachy_sdk…\r\n",
      "\r\n",
      "août 17 15:07:30 reachy-xprize bash[11862]: [joint_state_controller-4] INFO…ce.\r\n",
      "août 17 15:07:30 reachy-xprize bash[11862]: [joint_state_controller-4] INFO…dy!\r\n",
      "août 17 15:07:30 reachy-xprize bash[11862]: [gripper_controller-7] [INFO] […le.\r\n",
      "août 17 15:07:30 reachy-xprize bash[11862]: [gripper_controller-7] [INFO] […le.\r\n",
      "août 17 15:07:30 reachy-xprize bash[11862]: [gripper_controller-7] [INFO] […s\".\r\n",
      "août 17 15:07:30 reachy-xprize bash[11862]: [gripper_controller-7] [INFO] […dy!\r\n",
      "août 17 15:07:30 reachy-xprize bash[11862]: [gripper_controller-7] [INFO] […er\"\r\n",
      "août 17 15:07:30 reachy-xprize bash[11862]: [gripper_controller-7] [INFO] […e\".\r\n",
      "août 17 15:07:30 reachy-xprize bash[11862]: [gripper_controller-7] [INFO] […er\"\r\n",
      "août 17 15:07:30 reachy-xprize bash[11862]: [gripper_controller-7] [INFO] […e\".\r\n",
      "Hint: Some lines were ellipsized, use -l to show in full.\r\n"
     ]
    }
   ],
   "source": [
    "!systemctl status reachy_sdk_server.service"
   ]
  },
  {
   "cell_type": "code",
   "execution_count": null,
   "id": "ce62dc56",
   "metadata": {},
   "outputs": [],
   "source": []
  }
 ],
 "metadata": {
  "kernelspec": {
   "display_name": "Python 3 (ipykernel)",
   "language": "python",
   "name": "python3"
  },
  "language_info": {
   "codemirror_mode": {
    "name": "ipython",
    "version": 3
   },
   "file_extension": ".py",
   "mimetype": "text/x-python",
   "name": "python",
   "nbconvert_exporter": "python",
   "pygments_lexer": "ipython3",
   "version": "3.8.10"
  }
 },
 "nbformat": 4,
 "nbformat_minor": 5
}
