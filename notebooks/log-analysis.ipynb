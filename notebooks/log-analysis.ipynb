{
 "cells": [
  {
   "cell_type": "code",
   "execution_count": 1,
   "metadata": {},
   "outputs": [
    {
     "name": "stdout",
     "output_type": "stream",
     "text": [
      "Using matplotlib backend: MacOSX\n"
     ]
    },
    {
     "data": {
      "text/plain": [
       "2119084"
      ]
     },
     "execution_count": 1,
     "metadata": {},
     "output_type": "execute_result"
    }
   ],
   "source": [
    "%matplotlib \n",
    "\n",
    "import numpy as np\n",
    "\n",
    "from collections import defaultdict\n",
    "from datetime import datetime\n",
    "from matplotlib import pyplot as plt\n",
    "\n",
    "with open('./test-3600.log') as f:\n",
    "    lines = f.readlines()\n",
    "    \n",
    "logs = []\n",
    "for l in lines:\n",
    "    day, _, rest = l.partition(' ')\n",
    "    hour, _, rest = rest.partition(' ')\n",
    "    datestr = day + ' ' + hour\n",
    "    date = datetime.strptime(datestr, \"%Y-%m-%d %H:%M:%S,%f\").timestamp()\n",
    "    level, _, msg = rest.partition(' ')\n",
    "    logs.append((date, level, msg.strip()))\n",
    "    \n",
    "len(logs)"
   ]
  },
  {
   "cell_type": "code",
   "execution_count": 2,
   "metadata": {},
   "outputs": [
    {
     "data": {
      "text/plain": [
       "(1057415, 1058097, 3570, 2)"
      ]
     },
     "execution_count": 2,
     "metadata": {},
     "output_type": "execute_result"
    }
   ],
   "source": [
    "recv_log, send_log, dxl_error_log, other_log = [], [], [], []\n",
    "\n",
    "for t, lvl, msg in logs:\n",
    "    if msg.startswith('Got msg '):\n",
    "        recv_log.append((t, lvl, eval(msg[8:])))\n",
    "    elif msg.startswith('Sending '):\n",
    "        send_log.append((t, lvl, eval(msg[8:])[3:]))\n",
    "    elif msg.startswith('Dynamixel error'):\n",
    "        dxl_error_log.append((t, lvl, msg))\n",
    "    else:\n",
    "        other_log.append((t, lvl, msg))\n",
    "\n",
    "len(recv_log), len(send_log), len(dxl_error_log), len(other_log)"
   ]
  },
  {
   "cell_type": "code",
   "execution_count": 3,
   "metadata": {},
   "outputs": [
    {
     "data": {
      "text/plain": [
       "{'Dynamixel error 256 on motor id=30!'}"
      ]
     },
     "execution_count": 3,
     "metadata": {},
     "output_type": "execute_result"
    }
   ],
   "source": [
    "set([msg for _, _, msg in dxl_error_log])"
   ]
  },
  {
   "cell_type": "code",
   "execution_count": 4,
   "metadata": {},
   "outputs": [
    {
     "data": {
      "text/plain": [
       "(707422, 349993)"
      ]
     },
     "execution_count": 4,
     "metadata": {},
     "output_type": "execute_result"
    }
   ],
   "source": [
    "dxl_recv, orbita_recv = [], []\n",
    "for t, lvl, msg in recv_log:\n",
    "    if msg[0] == 15:\n",
    "        dxl_recv.append((t, lvl, msg))\n",
    "    elif msg[0] == 55:\n",
    "        orbita_recv.append((t, lvl, msg))\n",
    "    else:\n",
    "        print('Unknown', msg)\n",
    "        \n",
    "len(dxl_recv), len(orbita_recv)"
   ]
  },
  {
   "cell_type": "code",
   "execution_count": 5,
   "metadata": {},
   "outputs": [
    {
     "data": {
      "text/plain": [
       "<matplotlib.legend.Legend at 0x17e963a30>"
      ]
     },
     "execution_count": 5,
     "metadata": {},
     "output_type": "execute_result"
    }
   ],
   "source": [
    "from reachy_pyluos_hal.orbita import OrbitaRegister\n",
    "\n",
    "orbita_pos_update = defaultdict(list)\n",
    "dxl_pos_update = defaultdict(list)\n",
    "\n",
    "for t, _, msg in orbita_recv:\n",
    "    orbita_id = msg[1]\n",
    "    orbita_reg = msg[2]\n",
    "    \n",
    "    if orbita_reg == OrbitaRegister.present_position.value:\n",
    "        orbita_pos_update[orbita_id].append(t)\n",
    "        \n",
    "for t, _, msg in dxl_recv:\n",
    "    if msg[1] == 36 or msg[1] == 37:\n",
    "        dxl_id = msg[3]\n",
    "        dxl_pos_update[dxl_id].append(t)\n",
    "\n",
    "plt.figure()\n",
    "for id, t in dxl_pos_update.items():\n",
    "    plt.hist(np.diff(t), label=f'dxl {id}')\n",
    "for id, t in orbita_pos_update.items():\n",
    "    plt.hist(np.diff(t), label=f'orbita {id}')\n",
    "plt.legend()"
   ]
  },
  {
   "cell_type": "code",
   "execution_count": 21,
   "metadata": {},
   "outputs": [
    {
     "name": "stdout",
     "output_type": "stream",
     "text": [
      "dxl get 2 set 527253\n",
      "orbita get 2 set 527252\n"
     ]
    }
   ],
   "source": [
    "send_orbita_get, send_orbita_set = [], []\n",
    "send_dxl_get, send_dxl_set = [], []\n",
    "\n",
    "for t, lvl, msg in send_log:\n",
    "    if msg[0] == 50:\n",
    "        send_orbita_get.append((t, lvl, msg))\n",
    "    elif msg[0] == 51:\n",
    "        send_orbita_set.append((t, lvl, msg))\n",
    "    elif msg[0] == 10:\n",
    "        send_dxl_get.append((t, lvl, msg))        \n",
    "    elif msg[0] == 11:\n",
    "        send_dxl_set.append((t, lvl, msg))\n",
    "    elif msg[0] == 200:\n",
    "        continue\n",
    "    else:\n",
    "        print('Unknown', msg)\n",
    "        \n",
    "print('dxl get', len(send_dxl_get), 'set', len(send_dxl_set))\n",
    "print('orbita get', len(send_orbita_get), 'set', len(send_orbita_set))"
   ]
  },
  {
   "cell_type": "code",
   "execution_count": 27,
   "metadata": {},
   "outputs": [
    {
     "data": {
      "text/plain": [
       "(1612533148.865, 'DEBUG', [11, 30, 2, 30, 74, 2])"
      ]
     },
     "execution_count": 27,
     "metadata": {},
     "output_type": "execute_result"
    }
   ],
   "source": [
    "send_dxl_set[10]"
   ]
  },
  {
   "cell_type": "code",
   "execution_count": 30,
   "metadata": {},
   "outputs": [
    {
     "data": {
      "text/plain": [
       "<matplotlib.legend.Legend at 0x17e990a90>"
      ]
     },
     "execution_count": 30,
     "metadata": {},
     "output_type": "execute_result"
    }
   ],
   "source": [
    "from reachy_pyluos_hal.orbita import OrbitaRegister\n",
    "\n",
    "orbita_pos_set = defaultdict(list)\n",
    "dxl_pos_set = defaultdict(list)\n",
    "\n",
    "for t, _, msg in send_orbita_set:\n",
    "    orbita_id = msg[1]\n",
    "    orbita_reg = msg[2]\n",
    "    \n",
    "    if orbita_reg == OrbitaRegister.goal_position.value:\n",
    "        orbita_pos_set[orbita_id].append(t)\n",
    "        \n",
    "for t, _, msg in send_dxl_set:\n",
    "    if msg[1] == 30:\n",
    "        dxl_id = msg[3]\n",
    "        dxl_pos_set[dxl_id].append(t)\n",
    "\n",
    "plt.figure()\n",
    "for id, t in dxl_pos_set.items():\n",
    "    plt.plot(np.diff(t), label=f'dxl {id}')\n",
    "for id, t in orbita_pos_set.items():\n",
    "    plt.plot(np.diff(t), label=f'orbita {id}')\n",
    "plt.legend()"
   ]
  },
  {
   "cell_type": "code",
   "execution_count": 29,
   "metadata": {},
   "outputs": [
    {
     "data": {
      "text/plain": [
       "[1612533148.817,\n",
       " 1612533148.818,\n",
       " 1612533148.824,\n",
       " 1612533148.829,\n",
       " 1612533148.836,\n",
       " 1612533148.843,\n",
       " 1612533148.851,\n",
       " 1612533148.858,\n",
       " 1612533148.865,\n",
       " 1612533148.872,\n",
       " 1612533148.879,\n",
       " 1612533148.886,\n",
       " 1612533148.894,\n",
       " 1612533148.899,\n",
       " 1612533148.906,\n",
       " 1612533148.914,\n",
       " 1612533148.921,\n",
       " 1612533148.929,\n",
       " 1612533148.935,\n",
       " 1612533148.943]"
      ]
     },
     "execution_count": 29,
     "metadata": {},
     "output_type": "execute_result"
    }
   ],
   "source": [
    "orbita_pos_set[10][:20]"
   ]
  },
  {
   "cell_type": "code",
   "execution_count": null,
   "metadata": {},
   "outputs": [],
   "source": []
  }
 ],
 "metadata": {
  "kernelspec": {
   "display_name": "Python 3",
   "language": "python",
   "name": "python3"
  },
  "language_info": {
   "codemirror_mode": {
    "name": "ipython",
    "version": 3
   },
   "file_extension": ".py",
   "mimetype": "text/x-python",
   "name": "python",
   "nbconvert_exporter": "python",
   "pygments_lexer": "ipython3",
   "version": "3.9.1"
  }
 },
 "nbformat": 4,
 "nbformat_minor": 4
}
