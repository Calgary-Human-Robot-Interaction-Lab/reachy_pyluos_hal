{
 "cells": [
  {
   "cell_type": "code",
   "execution_count": 24,
   "metadata": {},
   "outputs": [
    {
     "name": "stdout",
     "output_type": "stream",
     "text": [
      "Using matplotlib backend: MacOSX\n"
     ]
    }
   ],
   "source": [
    "%matplotlib\n",
    "\n",
    "from matplotlib import pyplot as plt\n",
    "import numpy as np\n",
    "import time"
   ]
  },
  {
   "cell_type": "code",
   "execution_count": 1,
   "metadata": {},
   "outputs": [],
   "source": [
    "from reachy_pyluos_hal.reachy import Reachy\n",
    "from logging import getLogger\n",
    "\n",
    "r = Reachy(getLogger())\n",
    "r.start()"
   ]
  },
  {
   "cell_type": "code",
   "execution_count": 2,
   "metadata": {},
   "outputs": [],
   "source": [
    "r.setup()"
   ]
  },
  {
   "cell_type": "code",
   "execution_count": 3,
   "metadata": {},
   "outputs": [],
   "source": [
    "r.set_orbita_values('compliant', 'neck', {\n",
    "    'disk_bottom': False, \n",
    "    'disk_top': False,\n",
    "})"
   ]
  },
  {
   "cell_type": "code",
   "execution_count": 4,
   "metadata": {},
   "outputs": [],
   "source": [
    "r.set_orbita_values('goal_position', 'neck', {\n",
    "    'disk_top': 0,\n",
    "    'disk_middle': 0,\n",
    "    'disk_bottom': 0,\n",
    "})"
   ]
  },
  {
   "cell_type": "code",
   "execution_count": 5,
   "metadata": {},
   "outputs": [],
   "source": [
    "r.set_orbita_values('compliant', 'neck', {\n",
    "    'disk_bottom': True, \n",
    "    'disk_middle': True, \n",
    "})"
   ]
  },
  {
   "cell_type": "code",
   "execution_count": 17,
   "metadata": {},
   "outputs": [],
   "source": [
    "r.set_joints_value('torque_enable', {'l_antenna': 0, 'r_antenna': 1})"
   ]
  },
  {
   "cell_type": "code",
   "execution_count": null,
   "metadata": {},
   "outputs": [],
   "source": []
  },
  {
   "cell_type": "code",
   "execution_count": 34,
   "metadata": {},
   "outputs": [
    {
     "name": "stderr",
     "output_type": "stream",
     "text": [
      "Dynamixel error 256 on motor id=31!\n",
      "Dynamixel error 256 on motor id=31!\n",
      "Dynamixel error 256 on motor id=31!\n",
      "Dynamixel error 256 on motor id=31!\n",
      "Dynamixel error 256 on motor id=31!\n",
      "Dynamixel error 256 on motor id=31!\n",
      "Dynamixel error 256 on motor id=31!\n",
      "Dynamixel error 256 on motor id=31!\n",
      "Dynamixel error 256 on motor id=31!\n",
      "Dynamixel error 256 on motor id=31!\n",
      "Dynamixel error 256 on motor id=31!\n",
      "Dynamixel error 256 on motor id=31!\n",
      "Dynamixel error 256 on motor id=31!\n",
      "Dynamixel error 256 on motor id=31!\n",
      "Dynamixel error 256 on motor id=31!\n",
      "Dynamixel error 256 on motor id=31!\n",
      "Dynamixel error 256 on motor id=31!\n",
      "Dynamixel error 256 on motor id=31!\n",
      "Dynamixel error 256 on motor id=31!\n",
      "Dynamixel error 256 on motor id=31!\n",
      "Dynamixel error 256 on motor id=31!\n",
      "Dynamixel error 256 on motor id=31!\n",
      "Dynamixel error 256 on motor id=31!\n",
      "Dynamixel error 256 on motor id=31!\n",
      "Dynamixel error 256 on motor id=31!\n",
      "Dynamixel error 256 on motor id=31!\n",
      "Dynamixel error 256 on motor id=31!\n",
      "Dynamixel error 256 on motor id=31!\n",
      "Dynamixel error 256 on motor id=31!\n",
      "Dynamixel error 256 on motor id=31!\n",
      "Dynamixel error 256 on motor id=31!\n",
      "Dynamixel error 256 on motor id=31!\n",
      "Dynamixel error 256 on motor id=31!\n",
      "Dynamixel error 256 on motor id=31!\n",
      "Dynamixel error 256 on motor id=31!\n",
      "Dynamixel error 256 on motor id=31!\n",
      "Dynamixel error 256 on motor id=31!\n",
      "Dynamixel error 256 on motor id=31!\n",
      "Dynamixel error 256 on motor id=31!\n",
      "Dynamixel error 256 on motor id=31!\n",
      "Dynamixel error 256 on motor id=31!\n",
      "Dynamixel error 256 on motor id=31!\n",
      "Dynamixel error 256 on motor id=31!\n",
      "Dynamixel error 256 on motor id=31!\n",
      "Dynamixel error 256 on motor id=31!\n",
      "Dynamixel error 256 on motor id=31!\n",
      "Dynamixel error 256 on motor id=31!\n",
      "Dynamixel error 256 on motor id=31!\n",
      "Dynamixel error 256 on motor id=31!\n",
      "Dynamixel error 256 on motor id=31!\n",
      "Dynamixel error 256 on motor id=31!\n",
      "Dynamixel error 256 on motor id=31!\n",
      "Dynamixel error 256 on motor id=31!\n",
      "Dynamixel error 256 on motor id=31!\n",
      "Dynamixel error 256 on motor id=31!\n",
      "Dynamixel error 256 on motor id=31!\n",
      "Dynamixel error 256 on motor id=31!\n",
      "Dynamixel error 256 on motor id=31!\n",
      "Dynamixel error 256 on motor id=31!\n",
      "Dynamixel error 256 on motor id=31!\n",
      "Dynamixel error 256 on motor id=31!\n",
      "Dynamixel error 256 on motor id=31!\n",
      "Dynamixel error 256 on motor id=31!\n",
      "Dynamixel error 256 on motor id=31!\n",
      "Dynamixel error 256 on motor id=31!\n",
      "Dynamixel error 256 on motor id=31!\n",
      "Dynamixel error 256 on motor id=31!\n",
      "Dynamixel error 256 on motor id=31!\n",
      "Dynamixel error 256 on motor id=31!\n",
      "Dynamixel error 256 on motor id=31!\n",
      "Dynamixel error 256 on motor id=31!\n",
      "Dynamixel error 256 on motor id=31!\n",
      "Dynamixel error 256 on motor id=31!\n",
      "Dynamixel error 256 on motor id=31!\n",
      "Dynamixel error 256 on motor id=31!\n",
      "Dynamixel error 256 on motor id=31!\n",
      "Dynamixel error 256 on motor id=31!\n",
      "Dynamixel error 256 on motor id=31!\n",
      "Dynamixel error 256 on motor id=31!\n",
      "Dynamixel error 256 on motor id=31!\n",
      "Dynamixel error 256 on motor id=31!\n",
      "Dynamixel error 256 on motor id=31!\n",
      "Dynamixel error 256 on motor id=31!\n",
      "Dynamixel error 256 on motor id=31!\n",
      "Dynamixel error 256 on motor id=31!\n",
      "Dynamixel error 256 on motor id=31!\n",
      "Dynamixel error 256 on motor id=31!\n",
      "Dynamixel error 256 on motor id=31!\n",
      "Dynamixel error 256 on motor id=31!\n",
      "Dynamixel error 256 on motor id=31!\n",
      "Dynamixel error 256 on motor id=31!\n",
      "Dynamixel error 256 on motor id=31!\n",
      "Dynamixel error 256 on motor id=31!\n",
      "Dynamixel error 256 on motor id=31!\n",
      "Dynamixel error 256 on motor id=31!\n",
      "Dynamixel error 256 on motor id=31!\n",
      "Dynamixel error 256 on motor id=31!\n",
      "Dynamixel error 256 on motor id=31!\n",
      "Dynamixel error 256 on motor id=31!\n",
      "Dynamixel error 256 on motor id=31!\n",
      "Dynamixel error 256 on motor id=31!\n",
      "Dynamixel error 256 on motor id=31!\n",
      "Dynamixel error 256 on motor id=31!\n",
      "Dynamixel error 256 on motor id=31!\n",
      "Dynamixel error 256 on motor id=31!\n",
      "Dynamixel error 256 on motor id=31!\n",
      "Dynamixel error 256 on motor id=31!\n",
      "Dynamixel error 256 on motor id=31!\n",
      "Dynamixel error 256 on motor id=31!\n",
      "Dynamixel error 256 on motor id=31!\n",
      "Dynamixel error 256 on motor id=31!\n",
      "Dynamixel error 256 on motor id=31!\n",
      "Dynamixel error 256 on motor id=31!\n",
      "Dynamixel error 256 on motor id=31!\n",
      "Dynamixel error 256 on motor id=31!\n",
      "Dynamixel error 256 on motor id=31!\n",
      "Dynamixel error 256 on motor id=31!\n",
      "Dynamixel error 256 on motor id=31!\n",
      "Dynamixel error 256 on motor id=31!\n",
      "Dynamixel error 256 on motor id=31!\n",
      "Dynamixel error 256 on motor id=31!\n",
      "Dynamixel error 256 on motor id=31!\n",
      "Dynamixel error 256 on motor id=31!\n",
      "Dynamixel error 256 on motor id=31!\n",
      "Dynamixel error 256 on motor id=31!\n",
      "Dynamixel error 256 on motor id=31!\n",
      "Dynamixel error 256 on motor id=31!\n",
      "Dynamixel error 256 on motor id=31!\n",
      "Dynamixel error 256 on motor id=31!\n",
      "Dynamixel error 256 on motor id=31!\n",
      "Dynamixel error 256 on motor id=31!\n",
      "Dynamixel error 256 on motor id=31!\n",
      "Dynamixel error 256 on motor id=31!\n",
      "Dynamixel error 256 on motor id=31!\n",
      "Dynamixel error 256 on motor id=31!\n",
      "Dynamixel error 256 on motor id=31!\n",
      "Dynamixel error 256 on motor id=31!\n",
      "Dynamixel error 256 on motor id=31!\n",
      "Dynamixel error 256 on motor id=31!\n",
      "Dynamixel error 256 on motor id=31!\n",
      "Dynamixel error 256 on motor id=31!\n",
      "Dynamixel error 256 on motor id=31!\n",
      "Dynamixel error 256 on motor id=31!\n",
      "Dynamixel error 256 on motor id=31!\n",
      "Dynamixel error 256 on motor id=31!\n",
      "Dynamixel error 256 on motor id=31!\n",
      "Dynamixel error 256 on motor id=31!\n",
      "Dynamixel error 256 on motor id=31!\n",
      "Dynamixel error 256 on motor id=31!\n",
      "Dynamixel error 256 on motor id=31!\n",
      "Dynamixel error 256 on motor id=31!\n",
      "Dynamixel error 256 on motor id=31!\n",
      "Dynamixel error 256 on motor id=31!\n",
      "Dynamixel error 256 on motor id=31!\n",
      "Dynamixel error 256 on motor id=31!\n",
      "Dynamixel error 256 on motor id=31!\n",
      "Dynamixel error 256 on motor id=31!\n",
      "Dynamixel error 256 on motor id=31!\n",
      "Dynamixel error 256 on motor id=31!\n",
      "Dynamixel error 256 on motor id=31!\n",
      "Dynamixel error 256 on motor id=31!\n",
      "Dynamixel error 256 on motor id=31!\n",
      "Dynamixel error 256 on motor id=31!\n",
      "Dynamixel error 256 on motor id=31!\n",
      "Dynamixel error 256 on motor id=31!\n",
      "Dynamixel error 256 on motor id=31!\n",
      "Dynamixel error 256 on motor id=31!\n",
      "Dynamixel error 256 on motor id=31!\n",
      "Dynamixel error 256 on motor id=31!\n",
      "Dynamixel error 256 on motor id=31!\n",
      "Dynamixel error 256 on motor id=31!\n",
      "Dynamixel error 256 on motor id=31!\n",
      "Dynamixel error 256 on motor id=31!\n",
      "Dynamixel error 256 on motor id=31!\n",
      "Dynamixel error 256 on motor id=31!\n",
      "Dynamixel error 256 on motor id=31!\n",
      "Dynamixel error 256 on motor id=31!\n",
      "Dynamixel error 256 on motor id=31!\n",
      "Dynamixel error 256 on motor id=31!\n",
      "Dynamixel error 256 on motor id=31!\n",
      "Dynamixel error 256 on motor id=31!\n",
      "Dynamixel error 256 on motor id=31!\n",
      "Dynamixel error 256 on motor id=31!\n",
      "Dynamixel error 256 on motor id=31!\n",
      "Dynamixel error 256 on motor id=31!\n",
      "Dynamixel error 256 on motor id=31!\n",
      "Dynamixel error 256 on motor id=31!\n",
      "Dynamixel error 256 on motor id=31!\n",
      "Dynamixel error 256 on motor id=31!\n",
      "Dynamixel error 256 on motor id=31!\n",
      "Dynamixel error 256 on motor id=31!\n",
      "Dynamixel error 256 on motor id=31!\n",
      "Dynamixel error 256 on motor id=31!\n",
      "Dynamixel error 256 on motor id=31!\n",
      "Dynamixel error 256 on motor id=31!\n",
      "Dynamixel error 256 on motor id=31!\n",
      "Dynamixel error 256 on motor id=31!\n",
      "Dynamixel error 256 on motor id=31!\n",
      "Dynamixel error 256 on motor id=31!\n",
      "Dynamixel error 256 on motor id=31!\n",
      "Dynamixel error 256 on motor id=31!\n",
      "Dynamixel error 256 on motor id=31!\n",
      "Dynamixel error 256 on motor id=31!\n",
      "Dynamixel error 256 on motor id=31!\n",
      "Dynamixel error 256 on motor id=31!\n",
      "Dynamixel error 256 on motor id=31!\n",
      "Dynamixel error 256 on motor id=31!\n",
      "Dynamixel error 256 on motor id=31!\n",
      "Dynamixel error 256 on motor id=31!\n",
      "Dynamixel error 256 on motor id=31!\n",
      "Dynamixel error 256 on motor id=31!\n",
      "Dynamixel error 256 on motor id=31!\n",
      "Dynamixel error 256 on motor id=31!\n",
      "Dynamixel error 256 on motor id=31!\n"
     ]
    }
   ],
   "source": [
    "import time\n",
    "\n",
    "t = []\n",
    "\n",
    "while True:\n",
    "    #_, middle_pos, _ = r.get_orbita_values('present_position', 'neck', clear_value=True)\n",
    "    l_antenna_pos = r.get_joints_value('present_position', ['l_antenna'], clear_value=True)[0]\n",
    "    \n",
    "    r.set_orbita_values('goal_position', 'neck', {\n",
    "        'disk_top': middle_pos,\n",
    "        #'disk_bottom': l_antenna_pos,\n",
    "    })\n",
    "    r.set_joints_value('goal_position', {'r_antenna': middle_pos})\n",
    "    \n",
    "    t.append(time.time())\n",
    "    \n",
    "    if t[-1] - t[0] > 30:\n",
    "        break"
   ]
  },
  {
   "cell_type": "code",
   "execution_count": 33,
   "metadata": {},
   "outputs": [
    {
     "data": {
      "text/plain": [
       "[<matplotlib.lines.Line2D at 0x12d56ae50>]"
      ]
     },
     "execution_count": 33,
     "metadata": {},
     "output_type": "execute_result"
    }
   ],
   "source": [
    "plt.figure()\n",
    "plt.plot(np.diff(t))"
   ]
  },
  {
   "cell_type": "code",
   "execution_count": 15,
   "metadata": {},
   "outputs": [
    {
     "name": "stderr",
     "output_type": "stream",
     "text": [
      "Dynamixel error 256 on motor id=30!\n"
     ]
    }
   ],
   "source": [
    "r.set_joints_value('goal_position', {'l_antenna': 0, 'r_antenna': 0})"
   ]
  },
  {
   "cell_type": "code",
   "execution_count": null,
   "metadata": {},
   "outputs": [],
   "source": []
  }
 ],
 "metadata": {
  "kernelspec": {
   "display_name": "Python 3",
   "language": "python",
   "name": "python3"
  },
  "language_info": {
   "codemirror_mode": {
    "name": "ipython",
    "version": 3
   },
   "file_extension": ".py",
   "mimetype": "text/x-python",
   "name": "python",
   "nbconvert_exporter": "python",
   "pygments_lexer": "ipython3",
   "version": "3.9.1"
  }
 },
 "nbformat": 4,
 "nbformat_minor": 4
}
